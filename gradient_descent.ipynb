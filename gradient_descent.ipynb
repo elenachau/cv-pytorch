{
 "cells": [
  {
   "cell_type": "code",
   "execution_count": null,
   "id": "9870e6b6",
   "metadata": {},
   "outputs": [],
   "source": [
    "import numpy as np\n",
    "\n",
    "def feed_forward(inputs, outputs, weights): # define forwardfeed network\n",
    "    # calculate hidden layers\n",
    "    pre_hidden = np.dot(inputs, weights[0]) + weights[1] # weight[0] (weight values) and weight[1] (bias terms)\n",
    "\n",
    "    hidden = 1/(1+np.exp(-pre_hidden)) # apply non-linearity activation\n",
    "    pred_out = np.dot(hidden, weights[2]) + weights[3] # calc output layer values\n",
    "\n",
    "    # calc mean squared error value across dataset\n",
    "    mean_squared_error = np.mean(np.square(ored_out - outputs))\n",
    "\n",
    "    return mean_squared_error"
   ]
  },
  {
   "cell_type": "code",
   "execution_count": 2,
   "id": "f0faf2a4",
   "metadata": {},
   "outputs": [],
   "source": [
    "from copy import deepcopy"
   ]
  }
 ],
 "metadata": {
  "kernelspec": {
   "display_name": ".venv",
   "language": "python",
   "name": "python3"
  },
  "language_info": {
   "codemirror_mode": {
    "name": "ipython",
    "version": 3
   },
   "file_extension": ".py",
   "mimetype": "text/x-python",
   "name": "python",
   "nbconvert_exporter": "python",
   "pygments_lexer": "ipython3",
   "version": "3.13.7"
  }
 },
 "nbformat": 4,
 "nbformat_minor": 5
}
