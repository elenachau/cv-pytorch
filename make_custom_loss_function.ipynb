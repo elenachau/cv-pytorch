{
 "cells": [
  {
   "cell_type": "markdown",
   "id": "346091d0",
   "metadata": {},
   "source": [
    "### Build Neural Network with PyTorch"
   ]
  },
  {
   "cell_type": "code",
   "execution_count": 1,
   "id": "65be3cbe",
   "metadata": {},
   "outputs": [],
   "source": [
    "import torch\n",
    "x = [[1,2],[3,4],[5,6],[7,8]]\n",
    "y = [[3],[7],[11],[15]]"
   ]
  },
  {
   "cell_type": "code",
   "execution_count": 2,
   "id": "67ed10a9",
   "metadata": {},
   "outputs": [],
   "source": [
    "# convert input lists to tensor objects\n",
    "X = torch.tensor(x).float() # good practice to have tensor objects as floats or long ints, multiplied by decimal values anyway\n",
    "Y = torch.tensor(y).float()"
   ]
  },
  {
   "cell_type": "code",
   "execution_count": 3,
   "id": "c33a5294",
   "metadata": {},
   "outputs": [],
   "source": [
    "device = 'cuda' if torch.cuda.is_available() else 'cpu'\n",
    "X = X.to(device)\n",
    "Y = Y.to(device)"
   ]
  },
  {
   "cell_type": "code",
   "execution_count": 4,
   "id": "bc105b6c",
   "metadata": {},
   "outputs": [],
   "source": [
    "# define NN architecture\n",
    "\n",
    "import torch.nn as nn\n",
    "\n",
    "class MyNeuralNet(nn.Module): # nn.Module is the base class for all NN modules\n",
    "    def __init__(self):\n",
    "        super().__init__() # initialize all components of a nn.Module\n",
    "        self.input_to_hidden_layer = nn.Linear(2,8)\n",
    "        self.hidden_layer_activation = nn.ReLU()\n",
    "        self.hidden_to_output_layer = nn.Linear(8,1)\n",
    "    \n",
    "    # define forward propagation layer in NN\n",
    "    def forward(self, x): # mandatory to use 'forward' since PyTorch reserved this function as method for performing forward prop\n",
    "        x = self.input_to_hidden_layer(x)\n",
    "        x = self.hidden_layer_activation(x)\n",
    "        x = self.hidden_to_output_layer(x)\n",
    "        return x\n"
   ]
  },
  {
   "cell_type": "code",
   "execution_count": 5,
   "id": "03d7fcd4",
   "metadata": {},
   "outputs": [],
   "source": [
    "# access initial weights of each of the components\n",
    "mynet = MyNeuralNet().to(device) # register MyNeuralNet class object to device"
   ]
  },
  {
   "cell_type": "code",
   "execution_count": 6,
   "id": "30a06330",
   "metadata": {},
   "outputs": [
    {
     "data": {
      "text/plain": [
       "Parameter containing:\n",
       "tensor([[-0.1639, -0.5277],\n",
       "        [-0.0859,  0.6983],\n",
       "        [ 0.5017,  0.0070],\n",
       "        [-0.0299,  0.3474],\n",
       "        [-0.6542,  0.5754],\n",
       "        [ 0.1120,  0.5920],\n",
       "        [ 0.2550,  0.1723],\n",
       "        [-0.3843, -0.5489]], requires_grad=True)"
      ]
     },
     "execution_count": 6,
     "metadata": {},
     "output_type": "execute_result"
    }
   ],
   "source": [
    "# aside: access weight and bias of each layer\n",
    "mynet.input_to_hidden_layer.weight"
   ]
  },
  {
   "cell_type": "code",
   "execution_count": 7,
   "id": "f4a4cccb",
   "metadata": {},
   "outputs": [
    {
     "name": "stdout",
     "output_type": "stream",
     "text": [
      "Parameter containing:\n",
      "tensor([[-0.1639, -0.5277],\n",
      "        [-0.0859,  0.6983],\n",
      "        [ 0.5017,  0.0070],\n",
      "        [-0.0299,  0.3474],\n",
      "        [-0.6542,  0.5754],\n",
      "        [ 0.1120,  0.5920],\n",
      "        [ 0.2550,  0.1723],\n",
      "        [-0.3843, -0.5489]], requires_grad=True)\n",
      "Parameter containing:\n",
      "tensor([ 0.1207, -0.5223, -0.1440, -0.4131,  0.5316,  0.6701, -0.1688,  0.2678],\n",
      "       requires_grad=True)\n",
      "Parameter containing:\n",
      "tensor([[ 0.1127,  0.0253, -0.0211, -0.3534,  0.1238,  0.3418,  0.1418, -0.1656]],\n",
      "       requires_grad=True)\n",
      "Parameter containing:\n",
      "tensor([0.3271], requires_grad=True)\n"
     ]
    }
   ],
   "source": [
    "# aside cont.\n",
    "mynet.parameters()\n",
    "\n",
    "for par in mynet.parameters():\n",
    "    print(par)"
   ]
  },
  {
   "cell_type": "code",
   "execution_count": null,
   "id": "6e641075",
   "metadata": {},
   "outputs": [
    {
     "name": "stdout",
     "output_type": "stream",
     "text": [
      "tensor(70.3213, grad_fn=<MseLossBackward0>)\n"
     ]
    }
   ],
   "source": [
    "# aside cont. alt way to define model with nn.Parameter\n",
    "\n",
    "class MyNeuralNet(nn.Module): # nn.Module is the base class for all NN modules\n",
    "    def __init__(self):\n",
    "        super().__init__() # initialize all components of a nn.Module\n",
    "        self.input_to_hidden_layer = nn.Parameter(torch.rand(2,8))\n",
    "        self.hidden_layer_activation = nn.ReLU()\n",
    "        self.hidden_to_output_layer = nn.Parametere(torch.rand(8,1))\n",
    "    \n",
    "    # define forward propagation layer in NN\n",
    "    def forward(self, x): # mandatory to use 'forward' since PyTorch reserved this function as method for performing forward prop\n",
    "        x = x @ self.input_to_hidden_layer\n",
    "        x = self.hidden_layer_activation(x)\n",
    "        x = x @ self.input_to_output_layer\n",
    "        return x\n",
    "\n",
    "loss_func = nn.MSELoss() # define the loss function that we optimize for\n",
    "_Y = mynet(X) # gets output values when input is passed\n",
    "loss_value = loss_func(_Y, Y) # when computing loss, always send prediction (_<variable) first, then ground truth (PyTorch convention)\n",
    "print(loss_value)"
   ]
  }
 ],
 "metadata": {
  "kernelspec": {
   "display_name": ".venv",
   "language": "python",
   "name": "python3"
  },
  "language_info": {
   "codemirror_mode": {
    "name": "ipython",
    "version": 3
   },
   "file_extension": ".py",
   "mimetype": "text/x-python",
   "name": "python",
   "nbconvert_exporter": "python",
   "pygments_lexer": "ipython3",
   "version": "3.13.7"
  }
 },
 "nbformat": 4,
 "nbformat_minor": 5
}
