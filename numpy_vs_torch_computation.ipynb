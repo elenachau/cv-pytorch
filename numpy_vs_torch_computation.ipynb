{
 "cells": [
  {
   "cell_type": "markdown",
   "id": "552dde44",
   "metadata": {},
   "source": [
    "### Numpy vs Torch Object Computation Speed Comparison"
   ]
  },
  {
   "cell_type": "code",
   "execution_count": 2,
   "id": "b7c92ad6",
   "metadata": {},
   "outputs": [],
   "source": [
    "import torch\n",
    "x = torch.rand(1, 6400)\n",
    "y = torch.rand(6400, 5000)"
   ]
  },
  {
   "cell_type": "code",
   "execution_count": 3,
   "id": "29f7983b",
   "metadata": {},
   "outputs": [],
   "source": [
    "# define device to store tensor objects\n",
    "device = 'cuda' if torch.cuda.is_available() else 'cpu' # if no GPU device, the device will be CPU so hard to see drastic difference"
   ]
  },
  {
   "cell_type": "code",
   "execution_count": null,
   "id": "0643578a",
   "metadata": {},
   "outputs": [],
   "source": [
    "x, y = x.to(device), y.to(device) # register tensor objects (store information in a device)"
   ]
  },
  {
   "cell_type": "code",
   "execution_count": 5,
   "id": "1333da86",
   "metadata": {},
   "outputs": [
    {
     "name": "stdout",
     "output_type": "stream",
     "text": [
      "5.34 ms ± 552 μs per loop (mean ± std. dev. of 7 runs, 1 loop each)\n"
     ]
    }
   ],
   "source": [
    "# perform matrix multiplication of the Torch objects\n",
    "\n",
    "%timeit z=(x@y)"
   ]
  },
  {
   "cell_type": "code",
   "execution_count": 6,
   "id": "8c3aea2a",
   "metadata": {},
   "outputs": [
    {
     "name": "stdout",
     "output_type": "stream",
     "text": [
      "4.55 ms ± 203 μs per loop (mean ± std. dev. of 7 runs, 100 loops each)\n"
     ]
    }
   ],
   "source": [
    "# perform with cpu\n",
    "x, y = x.cpu(), y.cpu()\n",
    "%timeit z=(x@y)"
   ]
  },
  {
   "cell_type": "code",
   "execution_count": 7,
   "id": "2c801cf0",
   "metadata": {},
   "outputs": [
    {
     "name": "stdout",
     "output_type": "stream",
     "text": [
      "6.98 ms ± 320 μs per loop (mean ± std. dev. of 7 runs, 100 loops each)\n"
     ]
    }
   ],
   "source": [
    "# perform with numpy arrays\n",
    "import numpy as np\n",
    "x = np.random.random((1, 6400))\n",
    "y = np.random.random((6400, 5000))\n",
    "\n",
    "%timeit z = np.matmul(x, y)"
   ]
  }
 ],
 "metadata": {
  "kernelspec": {
   "display_name": ".venv",
   "language": "python",
   "name": "python3"
  },
  "language_info": {
   "codemirror_mode": {
    "name": "ipython",
    "version": 3
   },
   "file_extension": ".py",
   "mimetype": "text/x-python",
   "name": "python",
   "nbconvert_exporter": "python",
   "pygments_lexer": "ipython3",
   "version": "3.13.7"
  }
 },
 "nbformat": 4,
 "nbformat_minor": 5
}
