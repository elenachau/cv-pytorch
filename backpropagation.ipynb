{
 "cells": [
  {
   "cell_type": "code",
   "execution_count": 1,
   "id": "0e9c012a",
   "metadata": {},
   "outputs": [],
   "source": [
    "from copy import deepcopy\n",
    "import numpy as np\n",
    "\n",
    "x = np.array([[1,1]])\n",
    "y = np.array([[0]])"
   ]
  },
  {
   "cell_type": "code",
   "execution_count": 2,
   "id": "924ea9dd",
   "metadata": {},
   "outputs": [],
   "source": [
    "# initialize weight and bias values randomly\n",
    "\n",
    "W = [\n",
    "    np.array([[-0.0053, 0.3793], # 2x3 matrix\n",
    "              [-0.5820, -0.5204],\n",
    "              [-0.2723, 0.1896]], dtype=np.float32).T, \n",
    "    np.array([-0.0140, 0.5607, -0.0628], dtype=np.float32), # bias of hidden layer\n",
    "    np.array([[ 0.1528, -0.1745, -0.1135]], dtype=np.float32).T, # 3x1 matrix\n",
    "    np.array([-0.5516], dtype=np.float32) # bias of output layer\n",
    "]"
   ]
  },
  {
   "cell_type": "code",
   "execution_count": 6,
   "id": "e61b1764",
   "metadata": {},
   "outputs": [],
   "source": [
    "def feed_forward(inputs, outputs, weights):\n",
    "    # calculate hidden layers\n",
    "    pre_hidden = np.dot(inputs, weights[0]) + weights[1] # weight[0] (weight values) and weight[1] (bias terms)\n",
    "\n",
    "    hidden = 1/(1+np.exp(-pre_hidden)) # apply non-linearity activation\n",
    "    pred_out = np.dot(hidden, weights[2]) + weights[3] # calc output layer values\n",
    "\n",
    "    # calc mean squared error value across dataset\n",
    "    mean_squared_error = np.mean(np.square(pred_out - outputs))\n",
    "\n",
    "    return mean_squared_error"
   ]
  },
  {
   "cell_type": "code",
   "execution_count": 4,
   "id": "fc2a8255",
   "metadata": {},
   "outputs": [],
   "source": [
    "def update_weights(inputs, outputs, weights, lr):\n",
    "\n",
    "    # deepcopy to not change original weights\n",
    "    original_weights = deepcopy(weights)\n",
    "    temp_weights = deepcopy(weights)\n",
    "    updated_weights = deepcopy(weights)\n",
    "\n",
    "    # calculate loss value\n",
    "    original_loss = feed_forward(inputs, outputs, original_weights)\n",
    "    for i, layer in enumerate(original_weights): # loop through all layers of network\n",
    "        for index, weight in np.ndenumerate(layer): # loop through each parameter within a given list\n",
    "            temp_weights = deepcopy(weights) # reset to original set of weights since a different parameter is updated each iteration to calculate loss\n",
    "            temp_weights[i][index] += 0.0001 # select its index weight present in ith layer and increase by small value\n",
    "            _loss_plus = feed_forward(inputs, outputs, temp_weights) # compute new loss with the new set of weights\n",
    "            grad = (_loss_plus - original_loss)/0.0001\n",
    "            updated_weights[i][index] -= grad*lr\n",
    "    \n",
    "    return updated_weights, original_loss"
   ]
  },
  {
   "cell_type": "code",
   "execution_count": 7,
   "id": "642067cc",
   "metadata": {},
   "outputs": [],
   "source": [
    "# update weights over 100 epochs and fetch the loss value and the updated weight values\n",
    "losses = []\n",
    "for epoch in range(100):\n",
    "    W, loss = update_weights(x, y, W, 0.01)\n",
    "    losses.append(loss)"
   ]
  },
  {
   "cell_type": "code",
   "execution_count": 9,
   "id": "3967b251",
   "metadata": {},
   "outputs": [
    {
     "data": {
      "text/plain": [
       "Text(0, 0.5, 'Loss value')"
      ]
     },
     "execution_count": 9,
     "metadata": {},
     "output_type": "execute_result"
    },
    {
     "data": {
      "image/png": "[encoded data removed]",
      "text/plain": [
       "<Figure size 640x480 with 1 Axes>"
      ]
     },
     "metadata": {},
     "output_type": "display_data"
    }
   ],
   "source": [
    "import matplotlib.pyplot as plt\n",
    "plt.plot(losses)\n",
    "plt.title(\"Loss over increasing number of epochs\")\n",
    "plt.xlabel(\"Epochs\")\n",
    "plt.ylabel(\"Loss value\")"
   ]
  },
  {
   "cell_type": "code",
   "execution_count": 10,
   "id": "65ee0174",
   "metadata": {},
   "outputs": [
    {
     "data": {
      "text/plain": [
       "[array([[ 0.01424004, -0.5907864 , -0.27549535],\n",
       "        [ 0.39883757, -0.52918637,  0.18640439]], dtype=float32),\n",
       " array([ 0.00554004,  0.5519136 , -0.06599568], dtype=float32),\n",
       " array([[ 0.3475135 ],\n",
       "        [-0.05529078],\n",
       "        [ 0.03760847]], dtype=float32),\n",
       " array([-0.22443289], dtype=float32)]"
      ]
     },
     "execution_count": 10,
     "metadata": {},
     "output_type": "execute_result"
    }
   ],
   "source": [
    "W"
   ]
  },
  {
   "cell_type": "code",
   "execution_count": null,
   "id": "b2c3ebd5",
   "metadata": {},
   "outputs": [
    {
     "data": {
      "text/plain": [
       "array([[-0.0174781]])"
      ]
     },
     "execution_count": 12,
     "metadata": {},
     "output_type": "execute_result"
    }
   ],
   "source": [
    "# once weights are updated, make predictions for the input by passing the input through the network and calc output val\n",
    "pre_hidden = np.dot(x, W[0]) + W[1]\n",
    "hidden = 1/(1+np.exp(-pre_hidden))\n",
    "pred_out = np.dot(hidden, W[2]) + W[3]\n",
    "pred_out # close to expected output 0"
   ]
  }
 ],
 "metadata": {
  "kernelspec": {
   "display_name": ".venv",
   "language": "python",
   "name": "python3"
  },
  "language_info": {
   "codemirror_mode": {
    "name": "ipython",
    "version": 3
   },
   "file_extension": ".py",
   "mimetype": "text/x-python",
   "name": "python",
   "nbconvert_exporter": "python",
   "pygments_lexer": "ipython3",
   "version": "3.13.7"
  }
 },
 "nbformat": 4,
 "nbformat_minor": 5
}
