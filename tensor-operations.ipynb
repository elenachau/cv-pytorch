{
 "cells": [
  {
   "cell_type": "markdown",
   "id": "f5fda6d9",
   "metadata": {},
   "source": [
    "### Tensor Operations"
   ]
  },
  {
   "cell_type": "code",
   "execution_count": null,
   "id": "f19cca9f",
   "metadata": {},
   "outputs": [
    {
     "name": "stdout",
     "output_type": "stream",
     "text": [
      "tensor([[10, 20, 30, 40],\n",
      "        [50, 60, 70, 80]])\n"
     ]
    }
   ],
   "source": [
    "import torch\n",
    "x = torch.tensor([[1,2,3,4], [5,6,7,8]])\n",
    "print(x*10)"
   ]
  },
  {
   "cell_type": "code",
   "execution_count": 27,
   "id": "d0814a13",
   "metadata": {},
   "outputs": [
    {
     "name": "stdout",
     "output_type": "stream",
     "text": [
      "tensor([[11, 12, 13, 14],\n",
      "        [15, 16, 17, 18]])\n"
     ]
    }
   ],
   "source": [
    "x = torch.tensor([[1,2,3,4], [5,6,7,8]])\n",
    "y = x.add(10)\n",
    "print(y)"
   ]
  },
  {
   "cell_type": "code",
   "execution_count": null,
   "id": "cf5f1370",
   "metadata": {},
   "outputs": [
    {
     "name": "stdout",
     "output_type": "stream",
     "text": [
      "Squeeze:\n",
      " torch.Size([10, 1, 10]) torch.Size([10, 10])\n"
     ]
    }
   ],
   "source": [
    "# reshape tensor with squeeze method\n",
    "# provide axis index to remove, only applicable when dimension size is exactly 1\n",
    "x = torch.randn(10, 1, 10)\n",
    "z1 = torch.squeeze(x, 1) # similar to np.squeeze()\n",
    "# same operation can be directly performed on x \n",
    "# by calling squeeze and the dimension to squeeze out\n",
    "z2 = x.squeeze(1)\n",
    "assert torch.all(z1 == z2)\n",
    "# all the elements in both tensors are equal\n",
    "print('Squeeze:\\n', x.shape, z1.shape)"
   ]
  },
  {
   "cell_type": "code",
   "execution_count": null,
   "id": "400c02c2",
   "metadata": {},
   "outputs": [
    {
     "name": "stdout",
     "output_type": "stream",
     "text": [
      "x.shape torch.Size([10, 10])\n",
      "z1.shape torch.Size([1, 10, 10])\n",
      "torch.Size([1, 10, 10]) torch.Size([10, 1, 10]) torch.Size([10, 10, 1])\n"
     ]
    }
   ],
   "source": [
    "# unsqueeze to add dimension to the matrix\n",
    "x = torch.randn(10, 10)\n",
    "print(\"x.shape\", x.shape)\n",
    "z1 = x.unsqueeze(0) # inserts new axis at i=0\n",
    "print(\"z1.shape\", z1.shape)\n",
    "\n",
    "# same can be achieved using [None] indexing\n",
    "# adding None will auto create a fake dim at the specified axis\n",
    "x = torch.randn(10,10)\n",
    "z2, z3, z4 = x[None], x[:,None], x[:,:,None] # each colon represent one dimension\n",
    "print(z2.shape, z3.shape, z4.shape)\n"
   ]
  },
  {
   "cell_type": "code",
   "execution_count": null,
   "id": "0cb2ae32",
   "metadata": {},
   "outputs": [],
   "source": [
    "# matrix multiplication of two different tensors\n",
    "x = torch.tensor([[1,2,3,4], [5,6,7,8]])\n",
    "print(torch.matmul(x, y))\n",
    "print(x@y)"
   ]
  },
  {
   "cell_type": "code",
   "execution_count": null,
   "id": "331b6aba",
   "metadata": {},
   "outputs": [
    {
     "name": "stdout",
     "output_type": "stream",
     "text": [
      "Cat axis 0: torch.Size([10, 10, 10]) torch.Size([20, 10, 10])\n",
      "Cat axis 1: torch.Size([10, 10, 10]) torch.Size([10, 20, 10])\n"
     ]
    }
   ],
   "source": [
    "# concatenante tensors\n",
    "import torch\n",
    "x = torch.randn(10,10,10)\n",
    "z = torch.cat([x,x], axis=0) # np.concatenate()\n",
    "print('Cat axis 0:', x.shape, z.shape)\n",
    "\n",
    "z = torch.cat([x,x], axis=1) # concatenates on 1st dimension\n",
    "print('Cat axis 1:', x.shape, z.shape)"
   ]
  },
  {
   "cell_type": "code",
   "execution_count": null,
   "id": "cfb6ad32",
   "metadata": {},
   "outputs": [
    {
     "name": "stdout",
     "output_type": "stream",
     "text": [
      "Max: torch.Size([5, 5]) tensor(24)\n"
     ]
    }
   ],
   "source": [
    "# extract maximum value in a tensor\n",
    "x = torch.arange(25).reshape(5,5)\n",
    "print('Max:', x.shape, x.max())"
   ]
  },
  {
   "cell_type": "code",
   "execution_count": 41,
   "id": "3bc821d9",
   "metadata": {},
   "outputs": [
    {
     "name": "stdout",
     "output_type": "stream",
     "text": [
      "tensor([[ 0,  1,  2,  3,  4],\n",
      "        [ 5,  6,  7,  8,  9],\n",
      "        [10, 11, 12, 13, 14],\n",
      "        [15, 16, 17, 18, 19],\n",
      "        [20, 21, 22, 23, 24]])\n"
     ]
    }
   ],
   "source": [
    "print(x)"
   ]
  },
  {
   "cell_type": "code",
   "execution_count": 39,
   "id": "12394777",
   "metadata": {},
   "outputs": [
    {
     "data": {
      "text/plain": [
       "torch.return_types.max(\n",
       "values=tensor([20, 21, 22, 23, 24]),\n",
       "indices=tensor([4, 4, 4, 4, 4]))"
      ]
     },
     "execution_count": 39,
     "metadata": {},
     "output_type": "execute_result"
    }
   ],
   "source": [
    "# extract maximum value along with the row index\n",
    "x.max(dim=0)"
   ]
  },
  {
   "cell_type": "code",
   "execution_count": 40,
   "id": "38fe8e06",
   "metadata": {},
   "outputs": [
    {
     "name": "stdout",
     "output_type": "stream",
     "text": [
      "Max in axis 1:\n",
      " tensor([ 4,  9, 14, 19, 24]) tensor([4, 4, 4, 4, 4])\n"
     ]
    }
   ],
   "source": [
    "# get max across columns\n",
    "m, argm = x.max(dim=1)\n",
    "print('Max in axis 1:\\n', m, argm)"
   ]
  },
  {
   "cell_type": "code",
   "execution_count": 42,
   "id": "ddd14481",
   "metadata": {},
   "outputs": [
    {
     "name": "stdout",
     "output_type": "stream",
     "text": [
      "Permute dimensions: torch.Size([10, 20, 30]) torch.Size([30, 10, 20])\n"
     ]
    }
   ],
   "source": [
    "# permute the dimensions of a tensor object\n",
    "x = torch.randn(10, 20, 30)\n",
    "z = x.permute(2,0,1) # np.permute()\n",
    "print('Permute dimensions:', x.shape, z.shape)"
   ]
  }
 ],
 "metadata": {
  "kernelspec": {
   "display_name": ".venv",
   "language": "python",
   "name": "python3"
  },
  "language_info": {
   "codemirror_mode": {
    "name": "ipython",
    "version": 3
   },
   "file_extension": ".py",
   "mimetype": "text/x-python",
   "name": "python",
   "nbconvert_exporter": "python",
   "pygments_lexer": "ipython3",
   "version": "3.13.7"
  }
 },
 "nbformat": 4,
 "nbformat_minor": 5
}
