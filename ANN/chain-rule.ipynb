{
 "cells": [
  {
   "cell_type": "code",
   "execution_count": 4,
   "id": "2d923fe2",
   "metadata": {},
   "outputs": [],
   "source": [
    "from copy import deepcopy\n",
    "import numpy as np\n",
    "\n",
    "def line():\n",
    "    print('='*80)\n",
    "\n",
    "def feed_forward(inputs, outputs, weights):\n",
    "    # calculate hidden layers\n",
    "    pre_hidden = np.dot(inputs, weights[0]) + weights[1] # weight[0] (weight values) and weight[1] (bias terms)\n",
    "\n",
    "    hidden = 1/(1+np.exp(-pre_hidden)) # apply non-linearity activation\n",
    "    pred_out = np.dot(hidden, weights[2]) + weights[3] # calc output layer values\n",
    "\n",
    "    # calc mean squared error value across dataset\n",
    "    mean_squared_error = np.mean(np.square(pred_out - outputs))\n",
    "\n",
    "    return mean_squared_error"
   ]
  },
  {
   "cell_type": "code",
   "execution_count": 5,
   "id": "79aa02af",
   "metadata": {},
   "outputs": [],
   "source": [
    "def update_weights(inputs, outputs, weights, lr):\n",
    "\n",
    "    # deepcopy to not change original weights\n",
    "    original_weights = deepcopy(weights)\n",
    "    temp_weights = deepcopy(weights)\n",
    "    updated_weights = deepcopy(weights)\n",
    "\n",
    "    # calculate loss value\n",
    "    original_loss = feed_forward(inputs, outputs, original_weights)\n",
    "    for i, layer in enumerate(original_weights): # loop through all layers of network\n",
    "        for index, weight in np.ndenumerate(layer): # loop through each parameter within a given list\n",
    "            temp_weights = deepcopy(weights) # reset to original set of weights since a different parameter is updated each iteration to calculate loss\n",
    "            temp_weights[i][index] += 0.0001 # select its index weight present in ith layer and increase by small value\n",
    "            _loss_plus = feed_forward(inputs, outputs, temp_weights) # compute new loss with the new set of weights\n",
    "            grad = (_loss_plus - original_loss)/0.0001\n",
    "            updated_weights[i][index] -= grad*lr\n",
    "    \n",
    "    return updated_weights"
   ]
  },
  {
   "cell_type": "code",
   "execution_count": 10,
   "id": "412dd97c",
   "metadata": {},
   "outputs": [
    {
     "name": "stdout",
     "output_type": "stream",
     "text": [
      "================================================================================\n",
      "LOSS:\n",
      "0.33455008989960927\n",
      "================================================================================\n",
      "WEIGHTS:\n",
      "[[-0.0053 -0.582  -0.2723]\n",
      " [ 0.3793 -0.5204  0.1896]]\n",
      "[-0.014   0.5607 -0.0628]\n",
      "[[ 0.1528]\n",
      " [-0.1745]\n",
      " [-0.1135]]\n",
      "[-0.5516]\n",
      "================================================================================\n",
      "UPDATED WEIGHTS:\n",
      "[[ 0.03748801 -0.62894595 -0.30494714]\n",
      " [ 0.42208242 -0.5673459   0.156948  ]]\n",
      "[ 0.02878801  0.51375407 -0.09545201]\n",
      "[[0.8341824 ]\n",
      " [0.25095794]\n",
      " [0.4228859 ]]\n",
      "[0.60529804]\n"
     ]
    },
    {
     "data": {
      "text/plain": [
       "[None, None, None, None]"
      ]
     },
     "execution_count": 10,
     "metadata": {},
     "output_type": "execute_result"
    }
   ],
   "source": [
    "\n",
    "x = np.array([[1,1]]); y = np.array([[0]])  \n",
    "W = [\n",
    "    np.array([[-0.0053, 0.3793],\n",
    "              [-0.5820, -0.5204],\n",
    "              [-0.2723, 0.1896]], dtype=np.float32).T, \n",
    "    np.array([-0.0140, 0.5607, -0.0628], dtype=np.float32), \n",
    "    np.array([[ 0.1528, -0.1745, -0.1135]], dtype=np.float32).T, \n",
    "    np.array([-0.5516], dtype=np.float32)\n",
    "]\n",
    "line()\n",
    "print('Loss:'.upper())\n",
    "print(feed_forward(x,y,W))\n",
    "line()\n",
    "print('Weights:'.upper())\n",
    "[print(w) for w in W]\n",
    "line()\n",
    "print('Updated Weights:'.upper())\n",
    "for epx in range(1):\n",
    "    updated_weights = update_weights(x,y,W,1)\n",
    "[print(w) for w in updated_weights]"
   ]
  },
  {
   "cell_type": "markdown",
   "id": "56ab87b0",
   "metadata": {},
   "source": [
    "### Chain Rule"
   ]
  },
  {
   "cell_type": "markdown",
   "id": "0ef08c84",
   "metadata": {},
   "source": [
    "Calculate updated weight value with chain rule"
   ]
  },
  {
   "cell_type": "code",
   "execution_count": 11,
   "id": "03f6fa9c",
   "metadata": {},
   "outputs": [],
   "source": [
    "pre_hidden = np.dot(x, W[0]) + W[1]\n",
    "hidden = 1/(1+np.exp(-pre_hidden))\n",
    "predicted_value = np.dot(hidden, W[2]) + W[3]"
   ]
  },
  {
   "cell_type": "code",
   "execution_count": 13,
   "id": "07f35a0c",
   "metadata": {},
   "outputs": [
    {
     "name": "stdout",
     "output_type": "stream",
     "text": [
      "0.03748860333147175 0.037488014\n"
     ]
    }
   ],
   "source": [
    "tmp = W[0][0][0] - (-2*(0-(predicted_value[0][0]))*(W[2][0][0])*hidden[0,0]*(1-hidden[0,0])*x[0][0])\n",
    "print(tmp, updated_weights[0][0][0])"
   ]
  },
  {
   "cell_type": "code",
   "execution_count": 15,
   "id": "df1d671b",
   "metadata": {},
   "outputs": [
    {
     "name": "stdout",
     "output_type": "stream",
     "text": [
      "-0.6289373468565382 -0.62894595\n"
     ]
    }
   ],
   "source": [
    "tmp = W[0][0][1] - (-2*(0-(predicted_value[0][0]))*(W[2][1][0])*hidden[0,1]*(1-hidden[0,1])*x[0][0])\n",
    "print(tmp, updated_weights[0][0][1])"
   ]
  },
  {
   "cell_type": "code",
   "execution_count": 16,
   "id": "04017bd8",
   "metadata": {},
   "outputs": [
    {
     "name": "stdout",
     "output_type": "stream",
     "text": [
      "-0.304951263947996 0.037488014\n"
     ]
    }
   ],
   "source": [
    "tmp = W[0][0][2] - (-2*(0-(predicted_value[0][0]))*(W[2][2][0])*hidden[0,2]*(1-hidden[0,2])*x[0][0])\n",
    "print(tmp, updated_weights[0][0][0])"
   ]
  },
  {
   "cell_type": "code",
   "execution_count": 17,
   "id": "f4f03eed",
   "metadata": {},
   "outputs": [
    {
     "name": "stdout",
     "output_type": "stream",
     "text": [
      "0.42208860145914084 0.42208242\n"
     ]
    }
   ],
   "source": [
    "tmp = W[0][1][0] - (-2*(0-(predicted_value[0][0]))*(W[2][0][0])*hidden[0,0]*(1-hidden[0,0])*x[0][1])\n",
    "print(tmp, updated_weights[0][1][0])"
   ]
  },
  {
   "cell_type": "code",
   "execution_count": 18,
   "id": "b2eae2af",
   "metadata": {},
   "outputs": [
    {
     "name": "stdout",
     "output_type": "stream",
     "text": [
      "-0.5673373173880019 -0.5673459\n"
     ]
    }
   ],
   "source": [
    "tmp = W[0][1][1] - (-2*(0-(predicted_value[0][0]))*(W[2][1][0])*hidden[0,1]*(1-hidden[0,1])*x[0][1])\n",
    "print(tmp, updated_weights[0][1][1])"
   ]
  },
  {
   "cell_type": "code",
   "execution_count": 19,
   "id": "30a3c861",
   "metadata": {},
   "outputs": [
    {
     "name": "stdout",
     "output_type": "stream",
     "text": [
      "0.15694874675699821 0.156948\n"
     ]
    }
   ],
   "source": [
    "tmp = W[0][1][2] - (-2*(0-(predicted_value[0][0]))*(W[2][2][0])*hidden[0,2]*(1-hidden[0,2])*x[0][1])\n",
    "print(tmp, updated_weights[0][1][2])"
   ]
  },
  {
   "cell_type": "code",
   "execution_count": 21,
   "id": "9085b03f",
   "metadata": {},
   "outputs": [
    {
     "name": "stdout",
     "output_type": "stream",
     "text": [
      "0.028788602743620932 0.028788012\n"
     ]
    }
   ],
   "source": [
    "tmp = W[1][0] - (-2*(0-(predicted_value[0][0]))*hidden[0,0]*(1-hidden[0,0])*W[2][0][0])\n",
    "print(tmp, updated_weights[1][0])"
   ]
  },
  {
   "cell_type": "code",
   "execution_count": 22,
   "id": "3d7c06dc",
   "metadata": {},
   "outputs": [
    {
     "name": "stdout",
     "output_type": "stream",
     "text": [
      "0.5137626696420274 0.51375407\n"
     ]
    }
   ],
   "source": [
    "tmp = W[1][1] - (-2*(0-(predicted_value[0][0]))*hidden[0,1]*(1-hidden[0,1])*W[2][1][0])\n",
    "print(tmp, updated_weights[1][1])"
   ]
  },
  {
   "cell_type": "code",
   "execution_count": 23,
   "id": "bf5fd962",
   "metadata": {},
   "outputs": [
    {
     "name": "stdout",
     "output_type": "stream",
     "text": [
      "-0.0954512566166247 -0.09545201\n"
     ]
    }
   ],
   "source": [
    "tmp = W[1][2] - (-2*(0-(predicted_value[0][0]))*hidden[0,2]*(1-hidden[0,2])*W[2][2][0])\n",
    "print(tmp, updated_weights[1][2])"
   ]
  },
  {
   "cell_type": "code",
   "execution_count": 24,
   "id": "fc196542",
   "metadata": {},
   "outputs": [
    {
     "name": "stdout",
     "output_type": "stream",
     "text": [
      "0.8342055621416937 0.8341824\n"
     ]
    }
   ],
   "source": [
    "tmp = W[2][0][0]-(-2*(0-(predicted_value[0][0]))*hidden[0][0])\n",
    "print(tmp, updated_weights[2][0][0])"
   ]
  },
  {
   "cell_type": "code",
   "execution_count": 25,
   "id": "e2e95bb1",
   "metadata": {},
   "outputs": [
    {
     "name": "stdout",
     "output_type": "stream",
     "text": [
      "0.2509642654210383 0.25095794\n"
     ]
    }
   ],
   "source": [
    "tmp = W[2][1][0]-(-2*(0-(predicted_value[0][0]))*hidden[0][1])\n",
    "print(tmp, updated_weights[2][1][0])"
   ]
  },
  {
   "cell_type": "code",
   "execution_count": 26,
   "id": "c770849c",
   "metadata": {},
   "outputs": [
    {
     "name": "stdout",
     "output_type": "stream",
     "text": [
      "0.422898309408289 0.4228859\n"
     ]
    }
   ],
   "source": [
    "tmp = W[2][2][0]-(-2*(0-(predicted_value[0][0]))*hidden[0][2])\n",
    "print(tmp, updated_weights[2][2][0])"
   ]
  },
  {
   "cell_type": "code",
   "execution_count": 27,
   "id": "55f09dde",
   "metadata": {},
   "outputs": [
    {
     "name": "stdout",
     "output_type": "stream",
     "text": [
      "0.6052061234525776 0.60529804\n"
     ]
    }
   ],
   "source": [
    "tmp = W[3][0]-(-2*(0-(predicted_value[0][0])))\n",
    "print(tmp, updated_weights[3][0])"
   ]
  }
 ],
 "metadata": {
  "kernelspec": {
   "display_name": ".venv",
   "language": "python",
   "name": "python3"
  },
  "language_info": {
   "codemirror_mode": {
    "name": "ipython",
    "version": 3
   },
   "file_extension": ".py",
   "mimetype": "text/x-python",
   "name": "python",
   "nbconvert_exporter": "python",
   "pygments_lexer": "ipython3",
   "version": "3.13.7"
  }
 },
 "nbformat": 4,
 "nbformat_minor": 5
}
