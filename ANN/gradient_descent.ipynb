{
 "cells": [
  {
   "cell_type": "code",
   "execution_count": null,
   "id": "9870e6b6",
   "metadata": {},
   "outputs": [],
   "source": [
    "import numpy as np\n",
    "\n",
    "def feed_forward(inputs, outputs, weights): # define forwardfeed network\n",
    "    # calculate hidden layers\n",
    "    pre_hidden = np.dot(inputs, weights[0]) + weights[1] # weight[0] (weight values) and weight[1] (bias terms)\n",
    "\n",
    "    hidden = 1/(1+np.exp(-pre_hidden)) # apply non-linearity activation\n",
    "    pred_out = np.dot(hidden, weights[2]) + weights[3] # calc output layer values\n",
    "\n",
    "    # calc mean squared error value across dataset\n",
    "    mean_squared_error = np.mean(np.square(ored_out - outputs))\n",
    "\n",
    "    return mean_squared_error"
   ]
  },
  {
   "cell_type": "code",
   "execution_count": null,
   "id": "f0faf2a4",
   "metadata": {},
   "outputs": [],
   "source": [
    "from copy import deepcopy\n",
    "\n",
    "# neural network contains 4 parameters: 2 lists each for weight and bias parameters (connects input to hidden layer, hidden to output layer)\n",
    "# performs gradient descent: increase weight and bias by a very small amount\n",
    "def update_weights(inputs, outputs, weights, lr):\n",
    "\n",
    "    # deepcopy to not change original weights\n",
    "    original_weights = deepcopy(weights)\n",
    "    temp_weights = deepcopy(weights)\n",
    "    updated_weights = deepcopy(weights)\n",
    "\n",
    "    # calculate loss value\n",
    "    original_loss = feed_forward(inputs, outputs, original_weights)\n",
    "    for i, layer in enumerate(original_weights): # loop through all layers of network\n",
    "        for index, weight in np.ndenumerate(layer): # loop through each parameter within a given list\n",
    "            temp_weights = deepcopy(weights) # reset to original set of weights since a different parameter is updated each iteration to calculate loss\n",
    "            temp_weights[i][index] += 0.0001 # select its index weight present in ith layer and increase by small value\n",
    "            _loss_plus = feed_forward(inputs, outputs, temp_weights) # compute new loss with the new set of weights\n",
    "            grad = (_loss_plus - original_loss)/0.0001\n",
    "            updated_weights[i][index] -= grad*lr\n",
    "    \n",
    "    return updated_weights, original_loss\n",
    "\n"
   ]
  }
 ],
 "metadata": {
  "kernelspec": {
   "display_name": ".venv",
   "language": "python",
   "name": "python3"
  },
  "language_info": {
   "codemirror_mode": {
    "name": "ipython",
    "version": 3
   },
   "file_extension": ".py",
   "mimetype": "text/x-python",
   "name": "python",
   "nbconvert_exporter": "python",
   "pygments_lexer": "ipython3",
   "version": "3.13.7"
  }
 },
 "nbformat": 4,
 "nbformat_minor": 5
}
